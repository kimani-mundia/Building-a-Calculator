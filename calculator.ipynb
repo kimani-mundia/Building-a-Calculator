{
 "cells": [
  {
   "cell_type": "code",
   "execution_count": 1,
   "metadata": {},
   "outputs": [
    {
     "name": "stdout",
     "output_type": "stream",
     "text": [
      "9\n",
      "20\n",
      "0.8\n",
      "6\n",
      "2.7386127875258306\n",
      "8\n",
      "66.66666666666666\n",
      "2.0\n",
      "16\n",
      "1.3862943611198906\n",
      "24\n"
     ]
    }
   ],
   "source": [
    "import math\n",
    "\n",
    "def calculate_sqaure_root(x):\n",
    "    return math.sqrt(x)\n",
    "\n",
    "def calculate_expontial(x,y):\n",
    "    result = x**y\n",
    "    return result\n",
    "\n",
    "def calculate_percentage(x,y):\n",
    "    result = (x/y)*100\n",
    "    return result\n",
    "\n",
    "def calculate_square(x):\n",
    "    return x**2\n",
    "\n",
    "def calculate_log(x):\n",
    "    return math.log(x)\n",
    "\n",
    "def calculate_factorial(x):\n",
    "    return math.factorial(x)\n",
    "\n",
    "\n",
    "from statistics import*\n",
    "\n",
    "def calculate_mean(numbers):\n",
    "    return mean(numbers)\n",
    "\n",
    "def calculate_median(numbers):\n",
    "    return median(numbers)\n",
    "\n",
    "def calculate_mode(numbers):\n",
    "    return mode(numbers)\n",
    "\n",
    "def calculate_standard_deviation(numbers):\n",
    "    return stdev(numbers)\n",
    "\n",
    "\n",
    "def sum_of_numbers(x,y):\n",
    "    first_number = x\n",
    "    second_number = y\n",
    "    return x+y\n",
    "\n",
    "def multiply_numbers(x,y):\n",
    "    first_number = x\n",
    "    second_number = y\n",
    "    return x*y\n",
    "\n",
    "def divide_numbers(x,y):\n",
    "    first_number = x\n",
    "    second_number = y\n",
    "    return x/y\n",
    "print(sum_of_numbers(4,5)) # 9\n",
    "print(multiply_numbers(4,5)) # 20\n",
    "print(divide_numbers(4,5)) # 0.8\n",
    "print(calculate_mean([2,3,4,5,6,7,8,9,10])) # 6\n",
    "print(calculate_standard_deviation([2,3,4,5,6,7,8,9,10])) # 2.7386127875258306\n",
    "print(calculate_expontial(2,3)) # 8\n",
    "print(calculate_percentage(2,3)) # 66.66666666666666\n",
    "print(calculate_sqaure_root(4)) # 2.0\n",
    "print(calculate_square(4)) # 16\n",
    "print(calculate_log(4)) # 1.3862943611198906\n",
    "print(calculate_factorial(4)) # 24\n",
    "    "
   ]
  }
 ],
 "metadata": {
  "kernelspec": {
   "display_name": "Python 3",
   "language": "python",
   "name": "python3"
  },
  "language_info": {
   "codemirror_mode": {
    "name": "ipython",
    "version": 3
   },
   "file_extension": ".py",
   "mimetype": "text/x-python",
   "name": "python",
   "nbconvert_exporter": "python",
   "pygments_lexer": "ipython3",
   "version": "3.13.1"
  }
 },
 "nbformat": 4,
 "nbformat_minor": 2
}
